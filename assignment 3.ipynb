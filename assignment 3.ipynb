{
 "cells": [
  {
   "cell_type": "code",
   "execution_count": 1,
   "id": "be23b6d2-cacd-4f47-971b-00b4922b6c26",
   "metadata": {},
   "outputs": [],
   "source": [
    "#Q1. Which keyword is used to create a function?"
   ]
  },
  {
   "cell_type": "code",
   "execution_count": 7,
   "id": "f702e53f-bbca-4ffd-ad39-a509b692432b",
   "metadata": {},
   "outputs": [],
   "source": [
    "def test():\n",
    "    pass"
   ]
  },
  {
   "cell_type": "code",
   "execution_count": 1,
   "id": "c1d906d7-66dc-4bd9-b990-9d8d16e65b3b",
   "metadata": {},
   "outputs": [],
   "source": [
    "#print odd number in a given range\n",
    "#start range as 1 and end range 25"
   ]
  },
  {
   "cell_type": "code",
   "execution_count": 6,
   "id": "618ac790-bcba-4bdd-b509-5cf5ca32806b",
   "metadata": {},
   "outputs": [
    {
     "name": "stdin",
     "output_type": "stream",
     "text": [
      "enter the start range 1\n",
      "enter the end range 25\n"
     ]
    },
    {
     "name": "stdout",
     "output_type": "stream",
     "text": [
      "1\n",
      "3\n",
      "5\n",
      "7\n",
      "9\n",
      "11\n",
      "13\n",
      "15\n",
      "17\n",
      "19\n",
      "21\n",
      "23\n",
      "25\n"
     ]
    }
   ],
   "source": [
    "start=int(input(\"enter the start range\"))\n",
    "end=int(input(\"enter the end range\"))\n",
    "for i in range(start,end+1):\n",
    "    if(i%2==1):\n",
    "        print(i)"
   ]
  },
  {
   "cell_type": "code",
   "execution_count": 7,
   "id": "f24732fe-c6b8-4c62-882b-09df0b90864d",
   "metadata": {},
   "outputs": [],
   "source": [
    "#Q.2 *args and **kwargs function"
   ]
  },
  {
   "cell_type": "code",
   "execution_count": null,
   "id": "d4213a81-7c8a-4a43-b761-b7617f873f3e",
   "metadata": {},
   "outputs": [],
   "source": [
    "*args = n Numbers of *args you can pass inside a function"
   ]
  },
  {
   "cell_type": "code",
   "execution_count": 10,
   "id": "3eb2b950-ad6d-4bda-b5e0-ed9e221914cf",
   "metadata": {},
   "outputs": [],
   "source": [
    "def test1(*args):\n",
    "    return args"
   ]
  },
  {
   "cell_type": "code",
   "execution_count": 11,
   "id": "f6268e60-cee3-4be3-9730-bdfb846785ea",
   "metadata": {},
   "outputs": [
    {
     "data": {
      "text/plain": [
       "()"
      ]
     },
     "execution_count": 11,
     "metadata": {},
     "output_type": "execute_result"
    }
   ],
   "source": [
    "test1()"
   ]
  },
  {
   "cell_type": "code",
   "execution_count": 13,
   "id": "b940c35e-f943-4547-a5e0-bb86037151c2",
   "metadata": {},
   "outputs": [
    {
     "data": {
      "text/plain": [
       "('pooja', 'singh', 1, 2, 12.36)"
      ]
     },
     "execution_count": 13,
     "metadata": {},
     "output_type": "execute_result"
    }
   ],
   "source": [
    "test1(\"pooja\",\"singh\",1,2,12.36)"
   ]
  },
  {
   "cell_type": "code",
   "execution_count": null,
   "id": "bb78c653-e5ff-490d-a3c0-3e73eac1e3a2",
   "metadata": {},
   "outputs": [],
   "source": [
    "**kwargs = n numbers of data input args pass inside function"
   ]
  },
  {
   "cell_type": "code",
   "execution_count": 2,
   "id": "7fdb54a3-4a77-4819-9ee1-3bd149d2558c",
   "metadata": {},
   "outputs": [],
   "source": [
    "def test2(**kwargs):\n",
    "    return kwargs"
   ]
  },
  {
   "cell_type": "code",
   "execution_count": 3,
   "id": "1af86ec6-a583-4551-a7e2-0e732534028f",
   "metadata": {},
   "outputs": [
    {
     "data": {
      "text/plain": [
       "{}"
      ]
     },
     "execution_count": 3,
     "metadata": {},
     "output_type": "execute_result"
    }
   ],
   "source": [
    "test2()"
   ]
  },
  {
   "cell_type": "code",
   "execution_count": 6,
   "id": "d891378b-2a94-4eed-9c5b-d99470526d4b",
   "metadata": {},
   "outputs": [
    {
     "data": {
      "text/plain": [
       "dict"
      ]
     },
     "execution_count": 6,
     "metadata": {},
     "output_type": "execute_result"
    }
   ],
   "source": [
    "type(test2())"
   ]
  },
  {
   "cell_type": "code",
   "execution_count": 8,
   "id": "95a1b907-511e-43ed-9bdb-3d98518cf0f9",
   "metadata": {},
   "outputs": [
    {
     "data": {
      "text/plain": [
       "{'a': 123, 'b': 1.23, 'c': 'pooja', 'd': 'singh'}"
      ]
     },
     "execution_count": 8,
     "metadata": {},
     "output_type": "execute_result"
    }
   ],
   "source": [
    "test2(a = 123, b = 1.23, c = \"pooja\", d = \"singh\")"
   ]
  },
  {
   "cell_type": "code",
   "execution_count": 7,
   "id": "60472fe6-1fac-4fa3-896d-458aa37c3508",
   "metadata": {},
   "outputs": [],
   "source": [
    "def odd_numbers(x,y):\n",
    "    for i in range(x,y+1):\n",
    "        if i%2!=0:\n",
    "            print(i)"
   ]
  },
  {
   "cell_type": "code",
   "execution_count": 6,
   "id": "fa57e2ec-b568-47e0-be72-eecf8d75b672",
   "metadata": {},
   "outputs": [
    {
     "name": "stdout",
     "output_type": "stream",
     "text": [
      "1\n",
      "3\n",
      "5\n",
      "7\n",
      "9\n",
      "11\n",
      "13\n",
      "15\n",
      "17\n",
      "19\n",
      "21\n",
      "23\n",
      "25\n"
     ]
    }
   ],
   "source": [
    "odd_numbers(0,25)"
   ]
  },
  {
   "cell_type": "code",
   "execution_count": 1,
   "id": "eddbe4b6-9937-45f5-9137-3eb1bc97af29",
   "metadata": {},
   "outputs": [],
   "source": [
    "#Q.7 List Comprehension to iterate through the given string: ‘pwskills’.Expected output: ['p', 'w', 's', 'k', 'i', 'l', 'l', 's']"
   ]
  },
  {
   "cell_type": "code",
   "execution_count": 2,
   "id": "47e6ef27-f205-422e-b287-71e30706a520",
   "metadata": {},
   "outputs": [
    {
     "data": {
      "text/plain": [
       "['P', 'W', 'S', 'K', 'I', 'L', 'L', 'S']"
      ]
     },
     "execution_count": 2,
     "metadata": {},
     "output_type": "execute_result"
    }
   ],
   "source": [
    "s = \"pwskills\"\n",
    "list(map(lambda s : s.upper(),s))"
   ]
  },
  {
   "cell_type": "code",
   "execution_count": 9,
   "id": "b6078a4c-00b9-42fa-a819-5f88d932114a",
   "metadata": {},
   "outputs": [],
   "source": [
    "#Q.3 What is an iterator in python?"
   ]
  },
  {
   "cell_type": "code",
   "execution_count": null,
   "id": "2378b998-3a13-4d05-bfcb-1d60a1cdb53c",
   "metadata": {},
   "outputs": [],
   "source": [
    "An iterator in Python programming language is an object which you can iterate upon\n",
    "A method capable of performing the same action on every item in a collection"
   ]
  },
  {
   "cell_type": "code",
   "execution_count": 1,
   "id": "509c04fb-f958-4dde-af05-47e53561ab48",
   "metadata": {},
   "outputs": [],
   "source": [
    "# Name the method used to initialise the iterator object and the method used for iteration."
   ]
  },
  {
   "cell_type": "code",
   "execution_count": null,
   "id": "cb9f89ad-e68e-41da-946d-1799d83d5c2f",
   "metadata": {},
   "outputs": [],
   "source": [
    " the method used to initialise the iterator is  iter() function to create an iterator from an iterable object"
   ]
  },
  {
   "cell_type": "code",
   "execution_count": null,
   "id": "79d789d3-7ab3-4165-90af-814457fdd3b7",
   "metadata": {},
   "outputs": [],
   "source": [
    "the method used for iteration is next()."
   ]
  },
  {
   "cell_type": "code",
   "execution_count": 2,
   "id": "c44ba7ab-728a-47a1-bfa2-145a2ab6fcaa",
   "metadata": {},
   "outputs": [],
   "source": [
    "#Use these methods to print the first five elements of the given list [2, 4, 6, 8, 10, 12, 14,16, 18, 20]."
   ]
  },
  {
   "cell_type": "code",
   "execution_count": 9,
   "id": "32fc35c2-315e-4856-8acf-9940d9c8ae97",
   "metadata": {},
   "outputs": [
    {
     "name": "stdout",
     "output_type": "stream",
     "text": [
      "2\n",
      "4\n",
      "6\n",
      "8\n",
      "10\n"
     ]
    }
   ],
   "source": [
    "l = [2,4,6,8,10,12,14,16,18,20]\n",
    "for i in range(5):\n",
    "    print(l[i])\n"
   ]
  },
  {
   "cell_type": "code",
   "execution_count": 1,
   "id": "18827d88-faee-4675-9f63-fb709f8815cb",
   "metadata": {},
   "outputs": [],
   "source": [
    "#Q4. What is a generator function in python?"
   ]
  },
  {
   "cell_type": "code",
   "execution_count": null,
   "id": "de3945a7-65a4-4560-a63b-9df65e42fdb5",
   "metadata": {},
   "outputs": [],
   "source": [
    "generator function is a special type of function  \n",
    "Generator functions use the yield keyword instead of return to produce a sequence of values one at a time. "
   ]
  },
  {
   "cell_type": "code",
   "execution_count": 2,
   "id": "1214dd9a-2a43-49eb-bf22-3a28fda3e426",
   "metadata": {},
   "outputs": [],
   "source": [
    "#Why yield keyword is used?"
   ]
  },
  {
   "cell_type": "code",
   "execution_count": null,
   "id": "a8901ff5-1d60-49a1-8e98-d66a149a9bc3",
   "metadata": {},
   "outputs": [],
   "source": [
    "We use yield to return multiple data from the function it is also used to create generator function And used with iterator."
   ]
  },
  {
   "cell_type": "code",
   "execution_count": 1,
   "id": "b7cc31e7-3bcb-4414-81a8-3d62f7aea23c",
   "metadata": {},
   "outputs": [],
   "source": [
    "# example"
   ]
  },
  {
   "cell_type": "code",
   "execution_count": 2,
   "id": "da002e97-78ba-4193-81ca-8d41c9bedc09",
   "metadata": {},
   "outputs": [],
   "source": [
    "def test_fib(n):\n",
    "    a,b = 0,1\n",
    "    for i in range(n):\n",
    "        yield a\n",
    "        a,b = b,a+b\n"
   ]
  },
  {
   "cell_type": "code",
   "execution_count": 3,
   "id": "20a7f690-e886-4a0c-b51b-f489ce09f583",
   "metadata": {},
   "outputs": [
    {
     "name": "stdout",
     "output_type": "stream",
     "text": [
      "0\n",
      "1\n",
      "1\n",
      "2\n",
      "3\n",
      "5\n",
      "8\n",
      "13\n",
      "21\n",
      "34\n"
     ]
    }
   ],
   "source": [
    "for i in test_fib(10):\n",
    "    print(i)"
   ]
  },
  {
   "cell_type": "code",
   "execution_count": 14,
   "id": "bdb9579e-b0e6-436b-921c-0189d17c274e",
   "metadata": {},
   "outputs": [],
   "source": [
    "# Q6. Write a python program to print the first 10 Fibonacci numbers using a while loop."
   ]
  },
  {
   "cell_type": "code",
   "execution_count": 6,
   "id": "19aff868-1960-41e4-b9bd-0a3287824a8c",
   "metadata": {},
   "outputs": [
    {
     "name": "stdin",
     "output_type": "stream",
     "text": [
      "enter the number of you are looking for 10\n"
     ]
    },
    {
     "name": "stdout",
     "output_type": "stream",
     "text": [
      "0\n",
      "1\n",
      "1\n",
      "2\n",
      "3\n",
      "5\n",
      "8\n",
      "13\n",
      "21\n",
      "34\n"
     ]
    }
   ],
   "source": [
    "number = int(input(\"enter the number of you are looking for\"))\n",
    "a ,b = 0,1\n",
    "counter = 0\n",
    "while counter < number:\n",
    "    print(a)\n",
    "    c = a + b\n",
    "    a = b\n",
    "    b = c\n",
    "    counter = counter + 1"
   ]
  },
  {
   "cell_type": "code",
   "execution_count": 1,
   "id": "43039b35-1b1d-4eea-95a0-1798d52f1c88",
   "metadata": {},
   "outputs": [],
   "source": [
    "#Q9. Write a code to print odd numbers from 1 to 100 using list comprehension."
   ]
  },
  {
   "cell_type": "code",
   "execution_count": 1,
   "id": "2b0f1d66-49c2-42d5-83cc-289bb02b9a46",
   "metadata": {},
   "outputs": [
    {
     "name": "stdin",
     "output_type": "stream",
     "text": [
      "enter the start range 1\n",
      "enter the end range 101\n"
     ]
    },
    {
     "name": "stdout",
     "output_type": "stream",
     "text": [
      "1\n",
      "3\n",
      "5\n",
      "7\n",
      "9\n",
      "11\n",
      "13\n",
      "15\n",
      "17\n",
      "19\n",
      "21\n",
      "23\n",
      "25\n",
      "27\n",
      "29\n",
      "31\n",
      "33\n",
      "35\n",
      "37\n",
      "39\n",
      "41\n",
      "43\n",
      "45\n",
      "47\n",
      "49\n",
      "51\n",
      "53\n",
      "55\n",
      "57\n",
      "59\n",
      "61\n",
      "63\n",
      "65\n",
      "67\n",
      "69\n",
      "71\n",
      "73\n",
      "75\n",
      "77\n",
      "79\n",
      "81\n",
      "83\n",
      "85\n",
      "87\n",
      "89\n",
      "91\n",
      "93\n",
      "95\n",
      "97\n",
      "99\n"
     ]
    }
   ],
   "source": [
    "start=int(input(\"enter the start range\"))\n",
    "end=int(input(\"enter the end range\"))\n",
    "for i in range(100):\n",
    "    if(i%2==1):\n",
    "        print(i)"
   ]
  },
  {
   "cell_type": "code",
   "execution_count": 6,
   "id": "9cdc3d1d-a9d0-467e-93fa-b4fe2c6f9ed7",
   "metadata": {},
   "outputs": [],
   "source": [
    "#Q5. Create a generator function for prime numbers less than 1000. Use the next() method to print the first 20 prime numbers."
   ]
  },
  {
   "cell_type": "code",
   "execution_count": 7,
   "id": "f0bb0f42-31ed-4ab9-984e-4a85617d4339",
   "metadata": {},
   "outputs": [
    {
     "name": "stdout",
     "output_type": "stream",
     "text": [
      "2\n",
      "3\n",
      "5\n",
      "7\n",
      "11\n",
      "13\n",
      "17\n",
      "19\n",
      "23\n",
      "29\n",
      "31\n",
      "37\n",
      "41\n",
      "43\n",
      "47\n",
      "53\n",
      "59\n",
      "61\n",
      "67\n",
      "71\n"
     ]
    }
   ],
   "source": [
    "def is_prime(num):\n",
    "    if num <= 1:\n",
    "        return False\n",
    "    if num <= 3:\n",
    "        return True\n",
    "    if num % 2 == 0 or num % 3 == 0:\n",
    "        return False\n",
    "    i = 5\n",
    "    while i * i <= num:\n",
    "        if num % i == 0 or num % (i + 2) == 0:\n",
    "            return False\n",
    "        i += 6\n",
    "    return True\n",
    "\n",
    "def prime_generator():\n",
    "    num = 2\n",
    "    while num < 1000:\n",
    "        if is_prime(num):\n",
    "            yield num\n",
    "        num += 1\n",
    "\n",
    "# Print the first 20 prime numbers less than 1000\n",
    "prime_gen = prime_generator()\n",
    "for _ in range(20):\n",
    "    prime = next(prime_gen)\n",
    "    print(prime)"
   ]
  },
  {
   "cell_type": "code",
   "execution_count": 1,
   "id": "ee5aeb7d-ea22-4092-b800-b37a56e607a2",
   "metadata": {},
   "outputs": [],
   "source": [
    "#Q8. Write a python program to check whether a given number is Palindrome or not using a while loop."
   ]
  },
  {
   "cell_type": "code",
   "execution_count": 2,
   "id": "f9a08d34-3867-4053-a02d-e328e3c19cb5",
   "metadata": {},
   "outputs": [
    {
     "name": "stdin",
     "output_type": "stream",
     "text": [
      "enter your value 121\n"
     ]
    },
    {
     "name": "stdout",
     "output_type": "stream",
     "text": [
      "yes it is palindrome\n"
     ]
    }
   ],
   "source": [
    "s = input(\"enter your value\")\n",
    "reverse = s[:: -1]\n",
    "if (s == reverse):\n",
    "    print(\"yes it is palindrome\")\n",
    "else:\n",
    "    print(\"no it is not palindrome\")"
   ]
  },
  {
   "cell_type": "code",
   "execution_count": 3,
   "id": "2ffd17f9-8a37-429b-9f81-e846825dd97f",
   "metadata": {},
   "outputs": [
    {
     "name": "stdin",
     "output_type": "stream",
     "text": [
      "enter your value 1254\n"
     ]
    },
    {
     "name": "stdout",
     "output_type": "stream",
     "text": [
      "no it is not palindrome\n"
     ]
    }
   ],
   "source": [
    "s = input(\"enter your value\")\n",
    "reverse = s[:: -1]\n",
    "if (s == reverse):\n",
    "    print(\"yes it is palindrome\")\n",
    "else:\n",
    "    print(\"no it is not palindrome\")"
   ]
  },
  {
   "cell_type": "code",
   "execution_count": null,
   "id": "5d8adb2b-1a59-4bb6-9d56-9281c63c4d1d",
   "metadata": {},
   "outputs": [],
   "source": []
  }
 ],
 "metadata": {
  "kernelspec": {
   "display_name": "Python 3 (ipykernel)",
   "language": "python",
   "name": "python3"
  },
  "language_info": {
   "codemirror_mode": {
    "name": "ipython",
    "version": 3
   },
   "file_extension": ".py",
   "mimetype": "text/x-python",
   "name": "python",
   "nbconvert_exporter": "python",
   "pygments_lexer": "ipython3",
   "version": "3.10.8"
  }
 },
 "nbformat": 4,
 "nbformat_minor": 5
}
